{
 "cells": [
  {
   "cell_type": "markdown",
   "id": "4d256b92",
   "metadata": {},
   "source": [
    "# Tutorial / ejemplo de (\\_\\_str\\_\\_ y todos esos)"
   ]
  },
  {
   "cell_type": "markdown",
   "id": "af0b879b",
   "metadata": {},
   "source": [
    "## What Are Dunder Methods?\n",
    "In Python, special methods are a set of predefined methods you can use to enrich your classes. They are easy to recognize because they start and end with double underscores, for example \\_\\_init\\_\\_ or \\_\\_str\\_\\_.\n",
    "\n",
    "As it quickly became tiresome to say under-under-method-under-under Pythonistas adopted the term “dunder methods”, a short form of “double under.”\n",
    "\n",
    "These “dunders” or “special methods” in Python are also sometimes called “magic methods.” But using this terminology can make them seem more complicated than they really are—at the end of the day there’s nothing “magical” about them. You should treat these methods like a normal language feature.\n",
    "\n",
    "Dunder methods let you emulate the behavior of built-in types. For example, to get the length of a string you can call len('string'). But an empty class definition doesn’t support this behavior out of the box:"
   ]
  },
  {
   "cell_type": "code",
   "execution_count": 1,
   "id": "c62ca6bb",
   "metadata": {},
   "outputs": [
    {
     "ename": "TypeError",
     "evalue": "object of type 'NoLenSupport' has no len()",
     "output_type": "error",
     "traceback": [
      "\u001b[1;31m---------------------------------------------------------------------------\u001b[0m",
      "\u001b[1;31mTypeError\u001b[0m                                 Traceback (most recent call last)",
      "\u001b[1;32m<ipython-input-1-acc1060f7b33>\u001b[0m in \u001b[0;36m<module>\u001b[1;34m\u001b[0m\n\u001b[0;32m      3\u001b[0m \u001b[1;33m\u001b[0m\u001b[0m\n\u001b[0;32m      4\u001b[0m \u001b[0mobj\u001b[0m \u001b[1;33m=\u001b[0m \u001b[0mNoLenSupport\u001b[0m\u001b[1;33m(\u001b[0m\u001b[1;33m)\u001b[0m\u001b[1;33m\u001b[0m\u001b[1;33m\u001b[0m\u001b[0m\n\u001b[1;32m----> 5\u001b[1;33m \u001b[0mlen\u001b[0m\u001b[1;33m(\u001b[0m\u001b[0mobj\u001b[0m\u001b[1;33m)\u001b[0m\u001b[1;33m\u001b[0m\u001b[1;33m\u001b[0m\u001b[0m\n\u001b[0m",
      "\u001b[1;31mTypeError\u001b[0m: object of type 'NoLenSupport' has no len()"
     ]
    }
   ],
   "source": [
    "class NoLenSupport:\n",
    "    pass\n",
    "\n",
    "obj = NoLenSupport()\n",
    "len(obj)"
   ]
  },
  {
   "cell_type": "markdown",
   "id": "f0706565",
   "metadata": {},
   "source": [
    "To fix this, you can add a \\_\\_len\\_\\_ dunder method to your class:"
   ]
  },
  {
   "cell_type": "code",
   "execution_count": 2,
   "id": "d1641ae7",
   "metadata": {},
   "outputs": [
    {
     "data": {
      "text/plain": [
       "42"
      ]
     },
     "execution_count": 2,
     "metadata": {},
     "output_type": "execute_result"
    }
   ],
   "source": [
    "class LenSupport:\n",
    "    def __len__(self):\n",
    "        return 42\n",
    "\n",
    "obj = LenSupport()\n",
    "len(obj)"
   ]
  },
  {
   "cell_type": "markdown",
   "id": "3b967f0b",
   "metadata": {},
   "source": [
    "Another example is slicing. You can implement a \\_\\_getitem\\_\\_ method which allows you to use Python’s list slicing syntax: obj\\[ start : stop \\]."
   ]
  },
  {
   "cell_type": "markdown",
   "id": "e39e2103",
   "metadata": {},
   "source": [
    "## Special Methods and the Python Data Model\n",
    "\n",
    "This elegant design is known as the [Python data model](https://docs.python.org/3/reference/datamodel.html) and lets developers tap into rich language features like sequences, iteration, operator overloading, attribute access, etc.\n",
    "\n",
    "You can see Python’s data model as a powerful API you can interface with by implementing one or more dunder methods. If you want to write more Pythonic code, knowing how and when to use dunder methods is an important step.\n",
    "\n",
    "For a beginner this might be slightly overwhelming at first though. No worries, in this article I will guide you through the use of dunder methods using a simple Account class as an example."
   ]
  },
  {
   "cell_type": "markdown",
   "id": "21b488c7",
   "metadata": {},
   "source": [
    "## Enriching a Simple Account Class\n",
    "\n",
    "Throughout this article I will enrich a simple Python class with various dunder methods to unlock the following language features:\n",
    "\n",
    "- Initialization of new objects\n",
    "- Object representation\n",
    "- Enable iteration\n",
    "- Operator overloading (comparison)\n",
    "- Operator overloading (addition)\n",
    "- Method invocation\n",
    "- Context manager support (with statement)"
   ]
  },
  {
   "cell_type": "markdown",
   "id": "b78bf1f4",
   "metadata": {
    "editable": true
   },
   "source": [
    "## Enriching Your Python Classes with Dunder (Special) Methods"
   ]
  },
  {
   "cell_type": "markdown",
   "id": "a8b271eb",
   "metadata": {
    "editable": true
   },
   "source": [
    "### Construction\n",
    "\n",
    "Right upon starting my class I already need a special method. To construct account objects from the Account class I need a constructor which in Python is the \\_\\_init\\_\\_ dunder:"
   ]
  },
  {
   "cell_type": "code",
   "execution_count": 4,
   "id": "9076e270",
   "metadata": {
    "editable": true
   },
   "outputs": [],
   "source": [
    "class Account:\n",
    "    'A simple account class'\n",
    "    \n",
    "    def __init__(self, owner, amount=0):\n",
    "        'This is the constructor that lets us create objects from this class'\n",
    "        self.owner = owner\n",
    "        self.amount = amount\n",
    "        self._transactions = []"
   ]
  },
  {
   "cell_type": "markdown",
   "id": "5047bcb1",
   "metadata": {},
   "source": [
    "The constructor takes care of setting up the object. In this case it receives the owner name, an optional start amount and defines an internal transactions list to keep track of deposits and withdrawals.\n",
    "\n",
    "This allows us to create new accounts like this:"
   ]
  },
  {
   "cell_type": "code",
   "execution_count": 5,
   "id": "31a8beea",
   "metadata": {
    "collapsed": false,
    "editable": true,
    "jupyter": {
     "outputs_hidden": false
    }
   },
   "outputs": [
    {
     "data": {
      "text/plain": [
       "<__main__.Account at 0x2703f3950d0>"
      ]
     },
     "execution_count": 5,
     "metadata": {},
     "output_type": "execute_result"
    }
   ],
   "source": [
    "acc1 = Account('bob')\n",
    "acc1"
   ]
  },
  {
   "cell_type": "code",
   "execution_count": 6,
   "id": "28e84532",
   "metadata": {
    "collapsed": false,
    "editable": true,
    "jupyter": {
     "outputs_hidden": false
    }
   },
   "outputs": [
    {
     "data": {
      "text/plain": [
       "<__main__.Account at 0x2703f3952e0>"
      ]
     },
     "execution_count": 6,
     "metadata": {},
     "output_type": "execute_result"
    }
   ],
   "source": [
    "acc2 = Account('bob', 10)\n",
    "acc2"
   ]
  },
  {
   "cell_type": "markdown",
   "id": "23f8b39d",
   "metadata": {
    "editable": true
   },
   "source": [
    "### Object Representation: \\_\\_str\\_\\_, \\_\\_repr\\_\\_\n",
    "\n",
    "It’s common practice in Python to provide a string representation of your object for the consumer of your class (a bit like API documentation.) There are two ways to do this using dunder methods:\n",
    "\n",
    "\\_\\_repr\\_\\_: The “official” string representation of an object. This is how you would make an object of the class. The goal of \\_\\_repr\\_\\_ is to be unambiguous.\n",
    "\n",
    "\\_\\_str\\_\\_: The “informal” or nicely printable string representation of an object. This is for the enduser.\n",
    "\n",
    "Let’s implement these two methods on the Account class:\n"
   ]
  },
  {
   "cell_type": "code",
   "execution_count": 7,
   "id": "aef0aaff",
   "metadata": {
    "editable": true
   },
   "outputs": [],
   "source": [
    "class Account:\n",
    "    'A simple account class'\n",
    "    \n",
    "    def __init__(self, owner, amount=0):\n",
    "        'This is the constructor that lets us create objects from this class'\n",
    "        self.owner = owner\n",
    "        self.amount = amount\n",
    "        self._transactions = []\n",
    "    \n",
    "    def __repr__(self):\n",
    "        return 'Account({!r}, {!r})'.format(self.owner, self.amount)\n",
    "    \n",
    "    def __str__(self):\n",
    "        return 'Account of {} with starting amount: {}'.format(self.owner, self.amount)"
   ]
  },
  {
   "cell_type": "code",
   "execution_count": 8,
   "id": "8a798f46",
   "metadata": {
    "collapsed": false,
    "editable": true,
    "jupyter": {
     "outputs_hidden": false
    }
   },
   "outputs": [],
   "source": [
    "acc1 = Account('bob')\n",
    "acc2 = Account('bob', 10)"
   ]
  },
  {
   "cell_type": "markdown",
   "id": "022d3935",
   "metadata": {},
   "source": [
    "If you don’t want to hardcode \"Account\" as the name for the class you can also use self.\\_\\_class\\_\\_.\\_\\_name\\_\\_ to access it programmatically.\n",
    "\n",
    "If you wanted to implement just one of these to-string methods on a Python class, make sure it’s \\_\\_repr\\_\\_. (cuando python quiere usar \\_\\_str\\_\\_ y no la encuentra, el comportamiento por default es usar \\_\\_repr\\_\\_, entonces con definir esta ultima me aseguro de que tengo una descripcion razonable siempre)\n",
    "\n",
    "Now I can query the object in various ways and always get a nice string representation:"
   ]
  },
  {
   "cell_type": "code",
   "execution_count": 9,
   "id": "159a3500",
   "metadata": {
    "collapsed": false,
    "editable": true,
    "jupyter": {
     "outputs_hidden": false
    }
   },
   "outputs": [
    {
     "data": {
      "text/plain": [
       "\"Account('bob', 0)\""
      ]
     },
     "execution_count": 9,
     "metadata": {},
     "output_type": "execute_result"
    }
   ],
   "source": [
    "repr(acc1)"
   ]
  },
  {
   "cell_type": "code",
   "execution_count": 10,
   "id": "f6bfb84f",
   "metadata": {
    "collapsed": false,
    "editable": true,
    "jupyter": {
     "outputs_hidden": false
    }
   },
   "outputs": [
    {
     "data": {
      "text/plain": [
       "'Account of bob with starting amount: 0'"
      ]
     },
     "execution_count": 10,
     "metadata": {},
     "output_type": "execute_result"
    }
   ],
   "source": [
    "str(acc1)"
   ]
  },
  {
   "cell_type": "code",
   "execution_count": 11,
   "id": "285cc927",
   "metadata": {
    "collapsed": false,
    "editable": true,
    "jupyter": {
     "outputs_hidden": false
    }
   },
   "outputs": [
    {
     "name": "stdout",
     "output_type": "stream",
     "text": [
      "Account of bob with starting amount: 10\n"
     ]
    }
   ],
   "source": [
    "print(acc2)"
   ]
  },
  {
   "cell_type": "code",
   "execution_count": 12,
   "id": "ff7c6761",
   "metadata": {},
   "outputs": [
    {
     "data": {
      "text/plain": [
       "[Account('bob', 0), Account('bob', 0)]"
      ]
     },
     "execution_count": 12,
     "metadata": {},
     "output_type": "execute_result"
    }
   ],
   "source": [
    "lista = [acc1, acc1] # al incluir objetos en una lista usa __repr__ para mostrar una descripcion\n",
    "lista"
   ]
  },
  {
   "cell_type": "code",
   "execution_count": 13,
   "id": "f56c482c",
   "metadata": {},
   "outputs": [
    {
     "data": {
      "text/plain": [
       "__main__.Account"
      ]
     },
     "execution_count": 13,
     "metadata": {},
     "output_type": "execute_result"
    }
   ],
   "source": [
    "type(lista[0]) # pero obviamente sigue siendo el objeto (no lo convierte a string)"
   ]
  },
  {
   "cell_type": "code",
   "execution_count": 14,
   "id": "d66a523a",
   "metadata": {},
   "outputs": [
    {
     "data": {
      "text/plain": [
       "'bob'"
      ]
     },
     "execution_count": 14,
     "metadata": {},
     "output_type": "execute_result"
    }
   ],
   "source": [
    "lista[0].owner"
   ]
  },
  {
   "cell_type": "code",
   "execution_count": 15,
   "id": "0d33e91d",
   "metadata": {},
   "outputs": [
    {
     "name": "stdout",
     "output_type": "stream",
     "text": [
      "[Account('bob', 0), Account('bob', 0)]\n"
     ]
    }
   ],
   "source": [
    "print(lista) # aunque imprima la lista no usa str, porque estan dentro de la lista"
   ]
  },
  {
   "cell_type": "code",
   "execution_count": 16,
   "id": "62c8bcd8",
   "metadata": {},
   "outputs": [
    {
     "name": "stdout",
     "output_type": "stream",
     "text": [
      "Account of bob with starting amount: 0\n"
     ]
    }
   ],
   "source": [
    "print(lista[0]) # ahí sí usa __str__"
   ]
  },
  {
   "cell_type": "code",
   "execution_count": 17,
   "id": "56fa79a3",
   "metadata": {},
   "outputs": [
    {
     "name": "stdout",
     "output_type": "stream",
     "text": [
      "cuenta 1 con str: Account of bob with starting amount: 0  ---  cuenta 2 con repr: Account('bob', 10)\n"
     ]
    }
   ],
   "source": [
    "print(f'cuenta 1 con str: {acc1}  ---  cuenta 2 con repr: {acc2!r}') # en acc2 fuerzo el uso de __repr__ en un print"
   ]
  },
  {
   "cell_type": "markdown",
   "id": "5043ec77",
   "metadata": {
    "editable": true
   },
   "source": [
    "### Iteration: \\_\\_len\\_\\_, \\_\\_getitem\\_\\_, \\_\\_reversed\\_\\_\n",
    "\n",
    "In order to iterate over our account object I need to add some transactions. So first, I’ll define a simple method to add transactions. I’ll keep it simple because this is just setup code to explain dunder methods, and not a production-ready accounting system.\n",
    "\n",
    "- Se agrega el metodo add_transaction que agrega transacciones a una lista\n",
    "- Se agrego el metodo balance que calcula el saldo sumando los movimientos al monto de apertura. \n",
    "- A este ultimo metodo se le agregó el decorator @property para poderlo acceder directamente como account.balance\n",
    "\n",
    "1ro ver que la claze como estaba definida hasta ahora no acepta len() y tampoco se puede iterar...\n"
   ]
  },
  {
   "cell_type": "code",
   "execution_count": 18,
   "id": "e7a392e5",
   "metadata": {
    "collapsed": false,
    "editable": true,
    "jupyter": {
     "outputs_hidden": false
    }
   },
   "outputs": [
    {
     "ename": "TypeError",
     "evalue": "object of type 'Account' has no len()",
     "output_type": "error",
     "traceback": [
      "\u001b[1;31m---------------------------------------------------------------------------\u001b[0m",
      "\u001b[1;31mTypeError\u001b[0m                                 Traceback (most recent call last)",
      "\u001b[1;32m<ipython-input-18-40bb0266ef5d>\u001b[0m in \u001b[0;36m<module>\u001b[1;34m\u001b[0m\n\u001b[1;32m----> 1\u001b[1;33m \u001b[0mlen\u001b[0m\u001b[1;33m(\u001b[0m\u001b[0macc1\u001b[0m\u001b[1;33m)\u001b[0m\u001b[1;33m\u001b[0m\u001b[1;33m\u001b[0m\u001b[0m\n\u001b[0m",
      "\u001b[1;31mTypeError\u001b[0m: object of type 'Account' has no len()"
     ]
    }
   ],
   "source": [
    "len(acc1)"
   ]
  },
  {
   "cell_type": "code",
   "execution_count": 19,
   "id": "4befa6d8",
   "metadata": {
    "collapsed": false,
    "editable": true,
    "jupyter": {
     "outputs_hidden": false
    }
   },
   "outputs": [
    {
     "ename": "TypeError",
     "evalue": "'Account' object is not iterable",
     "output_type": "error",
     "traceback": [
      "\u001b[1;31m---------------------------------------------------------------------------\u001b[0m",
      "\u001b[1;31mTypeError\u001b[0m                                 Traceback (most recent call last)",
      "\u001b[1;32m<ipython-input-19-89bc1807e73c>\u001b[0m in \u001b[0;36m<module>\u001b[1;34m\u001b[0m\n\u001b[1;32m----> 1\u001b[1;33m \u001b[1;32mfor\u001b[0m \u001b[0mt\u001b[0m \u001b[1;32min\u001b[0m \u001b[0macc1\u001b[0m\u001b[1;33m:\u001b[0m\u001b[1;33m\u001b[0m\u001b[1;33m\u001b[0m\u001b[0m\n\u001b[0m\u001b[0;32m      2\u001b[0m     \u001b[0mprint\u001b[0m\u001b[1;33m(\u001b[0m\u001b[0mt\u001b[0m\u001b[1;33m)\u001b[0m\u001b[1;33m\u001b[0m\u001b[1;33m\u001b[0m\u001b[0m\n",
      "\u001b[1;31mTypeError\u001b[0m: 'Account' object is not iterable"
     ]
    }
   ],
   "source": [
    "for t in acc1:\n",
    "    print(t)"
   ]
  },
  {
   "cell_type": "code",
   "execution_count": 20,
   "id": "7989219b",
   "metadata": {
    "collapsed": false,
    "editable": true,
    "jupyter": {
     "outputs_hidden": false
    }
   },
   "outputs": [
    {
     "ename": "TypeError",
     "evalue": "'Account' object is not subscriptable",
     "output_type": "error",
     "traceback": [
      "\u001b[1;31m---------------------------------------------------------------------------\u001b[0m",
      "\u001b[1;31mTypeError\u001b[0m                                 Traceback (most recent call last)",
      "\u001b[1;32m<ipython-input-20-caf21f524f35>\u001b[0m in \u001b[0;36m<module>\u001b[1;34m\u001b[0m\n\u001b[1;32m----> 1\u001b[1;33m \u001b[0macc1\u001b[0m\u001b[1;33m[\u001b[0m\u001b[1;36m1\u001b[0m\u001b[1;33m]\u001b[0m\u001b[1;33m\u001b[0m\u001b[1;33m\u001b[0m\u001b[0m\n\u001b[0m",
      "\u001b[1;31mTypeError\u001b[0m: 'Account' object is not subscriptable"
     ]
    }
   ],
   "source": [
    "acc1[1]"
   ]
  },
  {
   "cell_type": "code",
   "execution_count": 21,
   "id": "8665e63e",
   "metadata": {
    "collapsed": false,
    "editable": true,
    "jupyter": {
     "outputs_hidden": false
    }
   },
   "outputs": [],
   "source": [
    "class Account:\n",
    "    'A simple account class'\n",
    "    \n",
    "    def __init__(self, owner, amount=0):\n",
    "        'This is the constructor that lets us create objects from this class'\n",
    "        self.owner = owner\n",
    "        self.amount = amount\n",
    "        self._transactions = []\n",
    "    \n",
    "    def __repr__(self):\n",
    "        return 'Account({!r}, {!r})'.format(self.owner, self.amount)\n",
    "    \n",
    "    def __str__(self):\n",
    "        return 'Account of {} with starting amount: {}'.format(self.owner, self.amount)\n",
    "    \n",
    "    def add_transaction(self, amount):\n",
    "        if not isinstance(amount, int):\n",
    "            raise ValueError('please use int for amount')\n",
    "        self._transactions.append(amount)\n",
    "        \n",
    "    @property\n",
    "    def balance(self):\n",
    "        return self.amount + sum(self._transactions)\n",
    "    \n",
    "    def __len__(self):\n",
    "        return len(self._transactions)\n",
    "    \n",
    "    def __getitem__(self, position):\n",
    "        return self._transactions[position]\n",
    "\n",
    "    # updated to reverse the normal iteration order (https://dbader.org/blog/python-dunder-methods - comment Pablo Ziliani)\n",
    "    def __reversed__(self):\n",
    "        return self[::-1]"
   ]
  },
  {
   "cell_type": "code",
   "execution_count": 22,
   "id": "98f5cb86",
   "metadata": {
    "collapsed": false,
    "editable": true,
    "jupyter": {
     "outputs_hidden": false
    }
   },
   "outputs": [
    {
     "data": {
      "text/plain": [
       "80"
      ]
     },
     "execution_count": 22,
     "metadata": {},
     "output_type": "execute_result"
    }
   ],
   "source": [
    "acc1 = Account('bob')\n",
    "acc1.add_transaction(20)\n",
    "acc1.add_transaction(-10)\n",
    "acc1.add_transaction(50)\n",
    "acc1.add_transaction(-20)\n",
    "acc1.add_transaction(30)\n",
    "\n",
    "acc1.balance\n",
    "80"
   ]
  },
  {
   "cell_type": "code",
   "execution_count": 23,
   "id": "73ef83fb",
   "metadata": {
    "collapsed": false,
    "editable": true,
    "jupyter": {
     "outputs_hidden": false
    }
   },
   "outputs": [
    {
     "data": {
      "text/plain": [
       "5"
      ]
     },
     "execution_count": 23,
     "metadata": {},
     "output_type": "execute_result"
    }
   ],
   "source": [
    "len(acc1)"
   ]
  },
  {
   "cell_type": "code",
   "execution_count": 24,
   "id": "eeb87ca1",
   "metadata": {
    "collapsed": false,
    "editable": true,
    "jupyter": {
     "outputs_hidden": false
    }
   },
   "outputs": [
    {
     "name": "stdout",
     "output_type": "stream",
     "text": [
      "20\n",
      "-10\n",
      "50\n",
      "-20\n",
      "30\n"
     ]
    }
   ],
   "source": [
    "for t in acc1:\n",
    "    print(t)"
   ]
  },
  {
   "cell_type": "code",
   "execution_count": 25,
   "id": "049879de",
   "metadata": {
    "collapsed": false,
    "editable": true,
    "jupyter": {
     "outputs_hidden": false
    }
   },
   "outputs": [
    {
     "data": {
      "text/plain": [
       "20"
      ]
     },
     "execution_count": 25,
     "metadata": {},
     "output_type": "execute_result"
    }
   ],
   "source": [
    "acc1[0]"
   ]
  },
  {
   "cell_type": "code",
   "execution_count": 26,
   "id": "347b6a5c",
   "metadata": {
    "collapsed": false,
    "editable": true,
    "jupyter": {
     "outputs_hidden": false
    }
   },
   "outputs": [
    {
     "data": {
      "text/plain": [
       "[-20, 30]"
      ]
     },
     "execution_count": 26,
     "metadata": {},
     "output_type": "execute_result"
    }
   ],
   "source": [
    "acc1[-2:]"
   ]
  },
  {
   "cell_type": "code",
   "execution_count": 27,
   "id": "bc0b04b0",
   "metadata": {
    "collapsed": false,
    "editable": true,
    "jupyter": {
     "outputs_hidden": false
    }
   },
   "outputs": [
    {
     "data": {
      "text/plain": [
       "[-20, -10, 20, 30, 50]"
      ]
     },
     "execution_count": 27,
     "metadata": {},
     "output_type": "execute_result"
    }
   ],
   "source": [
    "sorted(acc1)"
   ]
  },
  {
   "cell_type": "code",
   "execution_count": 28,
   "id": "a1d44c7e",
   "metadata": {
    "collapsed": false,
    "editable": true,
    "jupyter": {
     "outputs_hidden": false
    }
   },
   "outputs": [
    {
     "data": {
      "text/plain": [
       "[30, -20, 50, -10, 20]"
      ]
     },
     "execution_count": 28,
     "metadata": {},
     "output_type": "execute_result"
    }
   ],
   "source": [
    "reversed(acc1)"
   ]
  },
  {
   "cell_type": "markdown",
   "id": "a0394ebe",
   "metadata": {
    "editable": true
   },
   "source": [
    "### Operator Overloading for Comparing Accounts: \\_\\_eq\\_\\_, \\_\\_lt\\_\\_\n",
    "\n",
    "We all write dozens of statements daily to compare Python objects:\n",
    "\n",
    "\\>\\>\\> 2 > 1  \n",
    "True\n",
    "\n",
    "\\>\\>\\> 'a' > 'b'  \n",
    "False\n",
    "    \n",
    "This feels completely natural, but it’s actually quite amazing what happens behind the scenes here. Why does > work equally well on integers, strings and other objects (as long as they are the same type)? This polymorphic behavior is possible because these objects implement one or more comparison dunder methods.\n",
    "\n",
    "An easy way to verify this is to use the dir() builtin:  \n",
    "\n",
    "Notar los metodos \\_\\_eq\\_\\_, \\_\\_ge\\_\\_ y \\_\\_gt\\_\\_\n"
   ]
  },
  {
   "cell_type": "code",
   "execution_count": 29,
   "id": "2577f6b0",
   "metadata": {},
   "outputs": [
    {
     "data": {
      "text/plain": [
       "['__add__',\n",
       " '__class__',\n",
       " '__contains__',\n",
       " '__delattr__',\n",
       " '__dir__',\n",
       " '__doc__',\n",
       " '__eq__',\n",
       " '__format__',\n",
       " '__ge__',\n",
       " '__getattribute__',\n",
       " '__getitem__',\n",
       " '__getnewargs__',\n",
       " '__gt__',\n",
       " '__hash__',\n",
       " '__init__',\n",
       " '__init_subclass__',\n",
       " '__iter__',\n",
       " '__le__',\n",
       " '__len__',\n",
       " '__lt__',\n",
       " '__mod__',\n",
       " '__mul__',\n",
       " '__ne__',\n",
       " '__new__',\n",
       " '__reduce__',\n",
       " '__reduce_ex__',\n",
       " '__repr__',\n",
       " '__rmod__',\n",
       " '__rmul__',\n",
       " '__setattr__',\n",
       " '__sizeof__',\n",
       " '__str__',\n",
       " '__subclasshook__',\n",
       " 'capitalize',\n",
       " 'casefold',\n",
       " 'center',\n",
       " 'count',\n",
       " 'encode',\n",
       " 'endswith',\n",
       " 'expandtabs',\n",
       " 'find',\n",
       " 'format',\n",
       " 'format_map',\n",
       " 'index',\n",
       " 'isalnum',\n",
       " 'isalpha',\n",
       " 'isascii',\n",
       " 'isdecimal',\n",
       " 'isdigit',\n",
       " 'isidentifier',\n",
       " 'islower',\n",
       " 'isnumeric',\n",
       " 'isprintable',\n",
       " 'isspace',\n",
       " 'istitle',\n",
       " 'isupper',\n",
       " 'join',\n",
       " 'ljust',\n",
       " 'lower',\n",
       " 'lstrip',\n",
       " 'maketrans',\n",
       " 'partition',\n",
       " 'replace',\n",
       " 'rfind',\n",
       " 'rindex',\n",
       " 'rjust',\n",
       " 'rpartition',\n",
       " 'rsplit',\n",
       " 'rstrip',\n",
       " 'split',\n",
       " 'splitlines',\n",
       " 'startswith',\n",
       " 'strip',\n",
       " 'swapcase',\n",
       " 'title',\n",
       " 'translate',\n",
       " 'upper',\n",
       " 'zfill']"
      ]
     },
     "execution_count": 29,
     "metadata": {},
     "output_type": "execute_result"
    }
   ],
   "source": [
    "dir('a')"
   ]
  },
  {
   "cell_type": "markdown",
   "id": "2771e27a",
   "metadata": {},
   "source": [
    "Let’s build a second account object and compare it to the first one (I am adding a couple of transactions for later use):"
   ]
  },
  {
   "cell_type": "code",
   "execution_count": 30,
   "id": "76c0da9f",
   "metadata": {
    "editable": true
   },
   "outputs": [],
   "source": [
    "acc2 = Account('tim', 100)"
   ]
  },
  {
   "cell_type": "code",
   "execution_count": 31,
   "id": "deadb996",
   "metadata": {
    "collapsed": false,
    "editable": true,
    "jupyter": {
     "outputs_hidden": false
    }
   },
   "outputs": [
    {
     "data": {
      "text/plain": [
       "160"
      ]
     },
     "execution_count": 31,
     "metadata": {},
     "output_type": "execute_result"
    }
   ],
   "source": [
    "acc2.add_transaction(20)\n",
    "acc2.add_transaction(40)\n",
    "acc2.balance"
   ]
  },
  {
   "cell_type": "code",
   "execution_count": 32,
   "id": "a894f6bd",
   "metadata": {
    "collapsed": false,
    "editable": true,
    "jupyter": {
     "outputs_hidden": false
    }
   },
   "outputs": [
    {
     "ename": "TypeError",
     "evalue": "'>' not supported between instances of 'Account' and 'Account'",
     "output_type": "error",
     "traceback": [
      "\u001b[1;31m---------------------------------------------------------------------------\u001b[0m",
      "\u001b[1;31mTypeError\u001b[0m                                 Traceback (most recent call last)",
      "\u001b[1;32m<ipython-input-32-e5c66da9d15f>\u001b[0m in \u001b[0;36m<module>\u001b[1;34m\u001b[0m\n\u001b[1;32m----> 1\u001b[1;33m \u001b[0macc2\u001b[0m \u001b[1;33m>\u001b[0m \u001b[0macc1\u001b[0m\u001b[1;33m\u001b[0m\u001b[1;33m\u001b[0m\u001b[0m\n\u001b[0m",
      "\u001b[1;31mTypeError\u001b[0m: '>' not supported between instances of 'Account' and 'Account'"
     ]
    }
   ],
   "source": [
    "acc2 > acc1"
   ]
  },
  {
   "cell_type": "code",
   "execution_count": 33,
   "id": "79a51b58",
   "metadata": {
    "editable": true
   },
   "outputs": [],
   "source": [
    "from functools import total_ordering # decorator para no tener que implementar todas y cada una de las comparaciones (solo eq y lt)\n",
    "\n",
    "@total_ordering\n",
    "class Account:\n",
    "    'A simple account class'\n",
    "    \n",
    "    def __init__(self, owner, amount=0):\n",
    "        'This is the constructor that lets us create objects from this class'\n",
    "        self.owner = owner\n",
    "        self.amount = amount\n",
    "        self._transactions = []\n",
    "    \n",
    "    def __repr__(self):\n",
    "        return 'Account({!r}, {!r})'.format(self.owner, self.amount)\n",
    "    \n",
    "    def __str__(self):\n",
    "        return 'Account of {} with starting amount: {}'.format(self.owner, self.amount)\n",
    "    \n",
    "    def add_transaction(self, amount):\n",
    "        if not isinstance(amount, int):\n",
    "            raise ValueError('please use int for amount')\n",
    "        self._transactions.append(amount)\n",
    "        \n",
    "    @property\n",
    "    def balance(self):\n",
    "        return self.amount + sum(self._transactions)\n",
    "    \n",
    "    def __len__(self):\n",
    "        return len(self._transactions)\n",
    "\n",
    "    def __reversed__(self):\n",
    "        return self[::-1]\n",
    "    \n",
    "    def __getitem__(self, position):\n",
    "        return self._transactions[position]\n",
    "\n",
    "    # Con implementar eq y lt alcanza para que funcionen todas las posibles comparaciones (==, >, <, >=, <=)\n",
    "    def __eq__(self, other):\n",
    "        return self.balance == other.balance\n",
    "        \n",
    "    def __lt__(self, other):\n",
    "        return self.balance < other.balance"
   ]
  },
  {
   "cell_type": "markdown",
   "id": "d732d20a",
   "metadata": {},
   "source": [
    "y ahora si..."
   ]
  },
  {
   "cell_type": "code",
   "execution_count": 34,
   "id": "fb6a287a",
   "metadata": {
    "collapsed": false,
    "editable": true,
    "jupyter": {
     "outputs_hidden": false
    }
   },
   "outputs": [
    {
     "name": "stdout",
     "output_type": "stream",
     "text": [
      "0\n",
      "100\n"
     ]
    }
   ],
   "source": [
    "acc1 = Account('bob')\n",
    "acc2 = Account('tim', 100)\n",
    "print(acc1.balance)\n",
    "print(acc2.balance)"
   ]
  },
  {
   "cell_type": "code",
   "execution_count": 35,
   "id": "e155566f",
   "metadata": {
    "collapsed": false,
    "editable": true,
    "jupyter": {
     "outputs_hidden": false
    }
   },
   "outputs": [
    {
     "data": {
      "text/plain": [
       "False"
      ]
     },
     "execution_count": 35,
     "metadata": {},
     "output_type": "execute_result"
    }
   ],
   "source": [
    "acc1 == acc2"
   ]
  },
  {
   "cell_type": "code",
   "execution_count": 36,
   "id": "c104a3e6",
   "metadata": {
    "collapsed": false,
    "editable": true,
    "jupyter": {
     "outputs_hidden": false
    }
   },
   "outputs": [
    {
     "data": {
      "text/plain": [
       "False"
      ]
     },
     "execution_count": 36,
     "metadata": {},
     "output_type": "execute_result"
    }
   ],
   "source": [
    "acc1 > acc2"
   ]
  },
  {
   "cell_type": "code",
   "execution_count": 37,
   "id": "0df3685c",
   "metadata": {
    "collapsed": false,
    "editable": true,
    "jupyter": {
     "outputs_hidden": false
    }
   },
   "outputs": [
    {
     "data": {
      "text/plain": [
       "False"
      ]
     },
     "execution_count": 37,
     "metadata": {},
     "output_type": "execute_result"
    }
   ],
   "source": [
    "acc2 < acc1"
   ]
  },
  {
   "cell_type": "code",
   "execution_count": 38,
   "id": "35456ac4",
   "metadata": {
    "collapsed": false,
    "editable": true,
    "jupyter": {
     "outputs_hidden": false
    }
   },
   "outputs": [
    {
     "name": "stdout",
     "output_type": "stream",
     "text": [
      "110\n",
      "100\n"
     ]
    }
   ],
   "source": [
    "acc1.add_transaction(110)\n",
    "print(acc1.balance)\n",
    "print(acc2.balance)"
   ]
  },
  {
   "cell_type": "code",
   "execution_count": 39,
   "id": "891924ad",
   "metadata": {
    "collapsed": false,
    "editable": true,
    "jupyter": {
     "outputs_hidden": false
    }
   },
   "outputs": [
    {
     "data": {
      "text/plain": [
       "True"
      ]
     },
     "execution_count": 39,
     "metadata": {},
     "output_type": "execute_result"
    }
   ],
   "source": [
    "acc1 >= acc2"
   ]
  },
  {
   "cell_type": "code",
   "execution_count": 40,
   "id": "2dc17193",
   "metadata": {},
   "outputs": [
    {
     "name": "stdout",
     "output_type": "stream",
     "text": [
      "110\n",
      "110\n"
     ]
    },
    {
     "data": {
      "text/plain": [
       "False"
      ]
     },
     "execution_count": 40,
     "metadata": {},
     "output_type": "execute_result"
    }
   ],
   "source": [
    "acc2.add_transaction(10)\n",
    "print(acc1.balance)\n",
    "print(acc2.balance)\n",
    "acc1 != acc2"
   ]
  },
  {
   "cell_type": "markdown",
   "id": "8b615e14",
   "metadata": {
    "editable": true
   },
   "source": [
    "### Operator Overloading for Merging Accounts: \\_\\_add\\_\\_\n",
    "\n",
    "In Python, everything is an object. We are completely fine adding two integers or two strings with the + (plus) operator, it behaves in expected ways:\n",
    "\n",
    "\\>\\>\\> 1 + 2  \n",
    "3  \n",
    "\n",
    "\\>\\>\\> 'hello' + ' world'  \n",
    "'hello world'  \n",
    "\n",
    "Again, we see polymorphism at play: Did you notice how + behaves different depending the type of the object? For integers it sums, for strings it concatenates. Again doing a quick dir() on the object reveals the corresponding “dunder” interface into the data model:\n",
    "\n",
    "\\>\\>\\> dir(1)  \n",
    "\\[...  \n",
    "'\\_\\_add\\_\\_',  \n",
    "...  \n",
    "'\\_\\_radd\\_\\_',  \n",
    "...\\]  \n",
    "\n",
    "Our Account object does not support addition yet, so when you try to add two instances of it there’s a TypeError:\n"
   ]
  },
  {
   "cell_type": "code",
   "execution_count": 41,
   "id": "9ce90674",
   "metadata": {
    "editable": true
   },
   "outputs": [],
   "source": [
    "acc3 = Account('james', 200)"
   ]
  },
  {
   "cell_type": "code",
   "execution_count": 42,
   "id": "dbb47176",
   "metadata": {
    "collapsed": false,
    "editable": true,
    "jupyter": {
     "outputs_hidden": false
    }
   },
   "outputs": [
    {
     "ename": "TypeError",
     "evalue": "unsupported operand type(s) for +: 'Account' and 'Account'",
     "output_type": "error",
     "traceback": [
      "\u001b[1;31m---------------------------------------------------------------------------\u001b[0m",
      "\u001b[1;31mTypeError\u001b[0m                                 Traceback (most recent call last)",
      "\u001b[1;32m<ipython-input-42-0c6dc28ec305>\u001b[0m in \u001b[0;36m<module>\u001b[1;34m\u001b[0m\n\u001b[1;32m----> 1\u001b[1;33m \u001b[0macc1\u001b[0m \u001b[1;33m+\u001b[0m \u001b[0macc3\u001b[0m\u001b[1;33m\u001b[0m\u001b[1;33m\u001b[0m\u001b[0m\n\u001b[0m",
      "\u001b[1;31mTypeError\u001b[0m: unsupported operand type(s) for +: 'Account' and 'Account'"
     ]
    }
   ],
   "source": [
    "acc1 + acc3"
   ]
  },
  {
   "cell_type": "markdown",
   "id": "81ae7ca7",
   "metadata": {},
   "source": [
    "Let’s implement \\_\\_add\\_\\_ to be able to merge two accounts. The expected behavior would be to merge all attributes together: the owner name, as well as starting amounts and transactions. To do this we can benefit from the iteration support we implemented earlier:\n"
   ]
  },
  {
   "cell_type": "code",
   "execution_count": 43,
   "id": "30d608a6",
   "metadata": {
    "editable": true
   },
   "outputs": [],
   "source": [
    "from functools import total_ordering\n",
    "\n",
    "@total_ordering\n",
    "class Account:\n",
    "    'A simple account class'\n",
    "    \n",
    "    def __init__(self, owner, amount=0):\n",
    "        'This is the constructor that lets us create objects from this class'\n",
    "        self.owner = owner\n",
    "        self.amount = amount\n",
    "        self._transactions = []\n",
    "    \n",
    "    def __repr__(self):\n",
    "        return 'Account({!r}, {!r})'.format(self.owner, self.amount)\n",
    "    \n",
    "    def __str__(self):\n",
    "        return 'Account of {} with starting amount: {}'.format(self.owner, self.amount)\n",
    "    \n",
    "    def add_transaction(self, amount):\n",
    "        if not isinstance(amount, int):\n",
    "            raise ValueError('please use int for amount')\n",
    "        self._transactions.append(amount)\n",
    "        \n",
    "    @property\n",
    "    def balance(self):\n",
    "        return self.amount + sum(self._transactions)\n",
    "    \n",
    "    def __len__(self):\n",
    "        return len(self._transactions)\n",
    "    \n",
    "    def __getitem__(self, position):\n",
    "        return self._transactions[position]\n",
    "\n",
    "    def __reversed__(self):\n",
    "        return self[::-1]\n",
    "    \n",
    "    def __eq__(self, other):\n",
    "        return self.balance == other.balance\n",
    "        \n",
    "    def __lt__(self, other):\n",
    "        return self.balance < other.balance\n",
    "\n",
    "    def __add__(self, other):\n",
    "        owner = '{} & {}'.format(self.owner, other.owner)\n",
    "        start_amount = self.amount + other.amount\n",
    "        acc = Account(owner, start_amount)\n",
    "        for t in list(self) + list(other):\n",
    "            acc.add_transaction(t)\n",
    "        return acc\n",
    "    \n",
    "    # En algunos casos, ej: si uso la funcion sum sobre una lista de objetos de esta clase, por la forma en que esta\n",
    "    # implementada (inicializar la suma en 0 y sumar uno a uno los elementos), trataria de ejecutar 0.__add__(acc1) al no estar\n",
    "    # definida para sumar un entero a un objeto de este tipo, tratara de ejecutar acc1.__radd__(0).\n",
    "    # Implemento este metodo para que al calcular sum[acc1, acc2, acc3, ...] se logre 'sumar' los objetos de la lista en el sentido\n",
    "    # que le da __add__()\n",
    "    def __radd__(self, other):\n",
    "        if other == 0:\n",
    "            return self\n",
    "        else:\n",
    "            return self.__add__(other)"
   ]
  },
  {
   "cell_type": "code",
   "execution_count": 44,
   "id": "c38075c8",
   "metadata": {
    "collapsed": false,
    "editable": true,
    "jupyter": {
     "outputs_hidden": false
    }
   },
   "outputs": [],
   "source": [
    "acc1 = Account('bob', 0)\n",
    "acc1.add_transaction(10)\n",
    "acc1.add_transaction(-20)\n",
    "acc1.add_transaction(30)\n",
    "acc2 = Account('tim', 100)\n",
    "acc2.add_transaction(12)\n",
    "acc2.add_transaction(-42)\n",
    "acc3 = Account('james', 200)\n",
    "acc3.add_transaction(44)\n",
    "acc3.add_transaction(34)\n",
    "acc3.add_transaction(64)\n",
    "acc3.add_transaction(-14)"
   ]
  },
  {
   "cell_type": "code",
   "execution_count": 45,
   "id": "932b0df0",
   "metadata": {
    "collapsed": false,
    "editable": true,
    "jupyter": {
     "outputs_hidden": false
    }
   },
   "outputs": [
    {
     "data": {
      "text/plain": [
       "Account('bob & tim', 100)"
      ]
     },
     "execution_count": 45,
     "metadata": {},
     "output_type": "execute_result"
    }
   ],
   "source": [
    "acc1 + acc2"
   ]
  },
  {
   "cell_type": "code",
   "execution_count": 46,
   "id": "f53f3903",
   "metadata": {
    "collapsed": false,
    "editable": true,
    "jupyter": {
     "outputs_hidden": false
    }
   },
   "outputs": [
    {
     "name": "stdout",
     "output_type": "stream",
     "text": [
      "Account of tim & james with starting amount: 300\n",
      "12\n",
      "-42\n",
      "44\n",
      "34\n",
      "64\n",
      "-14\n",
      "balance 398\n"
     ]
    }
   ],
   "source": [
    "jointAccount = acc2 + acc3\n",
    "print(jointAccount)\n",
    "for t in jointAccount:\n",
    "    print(t)\n",
    "print('balance', jointAccount.balance)"
   ]
  },
  {
   "cell_type": "code",
   "execution_count": 47,
   "id": "fddebe6e",
   "metadata": {},
   "outputs": [
    {
     "name": "stdout",
     "output_type": "stream",
     "text": [
      "Account of bob & tim & james with starting amount: 300\n",
      "transacciones [10, -20, 30, 12, -42, 44, 34, 64, -14] total: 118\n",
      "balance 418\n"
     ]
    }
   ],
   "source": [
    "todas = sum([acc1, acc2, acc3]) ### Esto funca gracias a haber definido __radd__\n",
    "print(todas)\n",
    "print('transacciones',list(todas),'total:',sum(list(todas)))\n",
    "print('balance',todas.balance)\n"
   ]
  },
  {
   "cell_type": "markdown",
   "id": "bbe180fa",
   "metadata": {},
   "source": [
    "Yes, it is a bit more involved than the other dunder implementations so far. It should show you though that you are in the driver’s seat. You can implement addition however you please. If we wanted to ignore historic transactions—fine, you can also implement it like this:\n",
    "\n",
    "<code>\n",
    "def __add__(self, other):  \n",
    "    owner = self.owner + other.owner  \n",
    "    start_amount = self.balance + other.balance  \n",
    "    return Account(owner, start_amount)  \n",
    "<\\code>"
   ]
  },
  {
   "cell_type": "markdown",
   "id": "8c3a2b5e",
   "metadata": {
    "editable": true
   },
   "source": [
    "### Method invocation: \\_\\_call\\_\\_\n",
    "\n",
    "You can make an object callable like a regular function by adding the \\_\\_call\\_\\_ dunder method. For our account class we could print a nice report of all the transactions that make up its balance:\n"
   ]
  },
  {
   "cell_type": "code",
   "execution_count": 48,
   "id": "bfff0794",
   "metadata": {
    "editable": true
   },
   "outputs": [],
   "source": [
    "from functools import total_ordering\n",
    "\n",
    "@total_ordering\n",
    "class Account:\n",
    "    'A simple account class'\n",
    "    \n",
    "    def __init__(self, owner, amount=0):\n",
    "        'This is the constructor that lets us create objects from this class'\n",
    "        self.owner = owner\n",
    "        self.amount = amount\n",
    "        self._transactions = []\n",
    "    \n",
    "    def __repr__(self):\n",
    "        return 'Account({!r}, {!r})'.format(self.owner, self.amount)\n",
    "    \n",
    "    def __str__(self):\n",
    "        return 'Account of {} with starting amount: {}'.format(self.owner, self.amount)\n",
    "    \n",
    "    def add_transaction(self, amount):\n",
    "        if not isinstance(amount, int):\n",
    "            raise ValueError('please use int for amount')\n",
    "        self._transactions.append(amount)\n",
    "        \n",
    "    @property\n",
    "    def balance(self):\n",
    "        return self.amount + sum(self._transactions)\n",
    "    \n",
    "    def __len__(self):\n",
    "        return len(self._transactions)\n",
    "    \n",
    "    def __getitem__(self, position):\n",
    "        return self._transactions[position]\n",
    "\n",
    "    def __reversed__(self):\n",
    "        return self[::-1]\n",
    "    \n",
    "    def __eq__(self, other):\n",
    "        return self.balance == other.balance\n",
    "        \n",
    "    def __lt__(self, other):\n",
    "        return self.balance < other.balance\n",
    "\n",
    "    def __add__(self, other):\n",
    "        owner = '{}&{}'.format(self.owner, other.owner)\n",
    "        start_amount = self.amount + other.amount\n",
    "        acc = Account(owner, start_amount)\n",
    "        for t in list(self) + list(other):\n",
    "            acc.add_transaction(t)\n",
    "        return acc\n",
    "\n",
    "    def __call__(self):\n",
    "        print('Start amount: {}'.format(self.amount))\n",
    "        print('Transactions: ')\n",
    "        for transaction in self:\n",
    "            print(transaction)\n",
    "        print('\\nBalance: {}'.format(self.balance))"
   ]
  },
  {
   "cell_type": "markdown",
   "id": "a7775858",
   "metadata": {},
   "source": [
    "Now when I call the object with the double-parentheses acc() syntax, I get a nice account statement with an overview of all transactions and the current balance:"
   ]
  },
  {
   "cell_type": "code",
   "execution_count": 49,
   "id": "d5df9e89",
   "metadata": {
    "collapsed": false,
    "editable": true,
    "jupyter": {
     "outputs_hidden": false
    }
   },
   "outputs": [
    {
     "name": "stdout",
     "output_type": "stream",
     "text": [
      "Start amount: 10\n",
      "Transactions: \n",
      "20\n",
      "-10\n",
      "50\n",
      "-20\n",
      "30\n",
      "\n",
      "Balance: 80\n"
     ]
    }
   ],
   "source": [
    "acc1 = Account('bob', 10)\n",
    "acc1.add_transaction(20)\n",
    "acc1.add_transaction(-10)\n",
    "acc1.add_transaction(50)\n",
    "acc1.add_transaction(-20)\n",
    "acc1.add_transaction(30)\n",
    "\n",
    "acc1()"
   ]
  },
  {
   "cell_type": "markdown",
   "id": "f07e4555",
   "metadata": {},
   "source": [
    "Please keep in mind that this is just a toy example. A “real” account class probably wouldn’t print to the console when you use the function call syntax on one of its instances. In general, the downside of having a \\_\\_call\\_\\_ method on your objects is that it can be hard to see what the purpose of calling the object is.\n",
    "\n",
    "Most of the time it’s therefore better to add an explicit method to the class. In this case it probably would’ve been more transparent to have a separate Account.print_statement() method."
   ]
  },
  {
   "cell_type": "markdown",
   "id": "c89fc380",
   "metadata": {
    "editable": true
   },
   "source": [
    "### Context Manager Support and the With Statement: \\_\\_enter\\_\\_, \\_\\_exit\\_\\_\n",
    "\n",
    "My final example in this tutorial is about a slightly more advanced concept in Python: Context managers and adding support for the with statement.\n",
    "\n",
    "Now, what is a “context manager” in Python? Here’s a quick overview:\n",
    "\n",
    "A context manager is a simple “protocol” (or interface) that your object needs to follow so it can be used with the with statement. Basically all you need to do is add \\_\\_enter\\_\\_ and \\_\\_exit\\_\\_ methods to an object if you want it to function as a context manager.\n",
    "\n",
    "Let’s use context manager support to add a rollback mechanism to our Account class. If the balance goes negative upon adding another transaction we rollback to the previous state.\n",
    "\n",
    "We can leverage the Pythonic with statement by adding two more dunder methods. I’m also adding some print calls to make the example clearer when we demo it:\n"
   ]
  },
  {
   "cell_type": "code",
   "execution_count": 50,
   "id": "75e08be8",
   "metadata": {
    "collapsed": false,
    "editable": true,
    "jupyter": {
     "outputs_hidden": false
    }
   },
   "outputs": [],
   "source": [
    "from functools import total_ordering\n",
    "\n",
    "@total_ordering\n",
    "class Account:\n",
    "    'A simple account class'\n",
    "    \n",
    "    def __init__(self, owner, amount=0):\n",
    "        'This is the constructor that lets us create objects from this class'\n",
    "        self.owner = owner\n",
    "        self.amount = amount\n",
    "        self._transactions = []\n",
    "    \n",
    "    def __repr__(self):\n",
    "        return 'Account({!r}, {!r})'.format(self.owner, self.amount)\n",
    "    \n",
    "    def __str__(self):\n",
    "        return 'Account of {} with starting amount: {}'.format(self.owner, self.amount)\n",
    "    \n",
    "    def add_transaction(self, amount):\n",
    "        if not isinstance(amount, int):\n",
    "            raise ValueError('please use int for amount')\n",
    "        self._transactions.append(amount)\n",
    "        \n",
    "    @property\n",
    "    def balance(self):\n",
    "        return self.amount + sum(self._transactions)\n",
    "    \n",
    "    def __len__(self):\n",
    "        return len(self._transactions)\n",
    "    \n",
    "    def __getitem__(self, position):\n",
    "        return self._transactions[position]\n",
    "\n",
    "    def __reversed__(self):\n",
    "        return self[::-1]\n",
    "    \n",
    "    def __eq__(self, other):\n",
    "        return self.balance == other.balance\n",
    "        \n",
    "    def __lt__(self, other):\n",
    "        return self.balance < other.balance\n",
    "\n",
    "    def __add__(self, other):\n",
    "        owner = '{}&{}'.format(self.owner, other.owner)\n",
    "        start_amount = self.amount + other.amount\n",
    "        acc = Account(owner, start_amount)\n",
    "        for t in list(self) + list(other):\n",
    "            acc.add_transaction(t)\n",
    "        return acc\n",
    "\n",
    "    def __call__(self):\n",
    "        print('Start amount: {}'.format(self.amount))\n",
    "        print('Transactions: ')\n",
    "        for transaction in self:\n",
    "            print(transaction)\n",
    "        print('\\nBalance: {}'.format(self.balance))\n",
    "        \n",
    "    def __enter__(self):\n",
    "        print('ENTER WITH: making backup of transactions for rollback')\n",
    "        self._copy_transactions = list(self._transactions)\n",
    "        return self\n",
    "\n",
    "    def __exit__(self, exc_type, exc_val, exc_tb):\n",
    "        print('EXIT WITH:', end=' ')\n",
    "        if exc_type:\n",
    "            self._transactions = self._copy_transactions\n",
    "            print('rolling back to previous transactions')\n",
    "            print('transaction resulted in {} ({})'.format(exc_type.__name__, exc_val))\n",
    "        else:\n",
    "            print('transaction ok')"
   ]
  },
  {
   "cell_type": "markdown",
   "id": "4d36e4e0",
   "metadata": {},
   "source": [
    "As an exception has to be raised to trigger a rollback, I define a quick helper method to validate the transactions in an account:"
   ]
  },
  {
   "cell_type": "code",
   "execution_count": 51,
   "id": "2731977d",
   "metadata": {
    "collapsed": false,
    "editable": true,
    "jupyter": {
     "outputs_hidden": false
    }
   },
   "outputs": [],
   "source": [
    "def validate_transaction(acc, amount_to_add):\n",
    "    with acc as a:\n",
    "        print('adding {} to account'.format(amount_to_add))\n",
    "        a.add_transaction(amount_to_add)\n",
    "        print('new balance would be: {}'.format(a.balance))\n",
    "        if a.balance < 0:\n",
    "            raise ValueError('sorry cannot go in debt!')\n"
   ]
  },
  {
   "cell_type": "code",
   "execution_count": 52,
   "id": "3df5e9ba",
   "metadata": {
    "collapsed": false,
    "editable": true,
    "jupyter": {
     "outputs_hidden": false
    }
   },
   "outputs": [
    {
     "name": "stdout",
     "output_type": "stream",
     "text": [
      "\n",
      "Balance start: 10\n",
      "ENTER WITH: making backup of transactions for rollback\n",
      "adding 20 to account\n",
      "new balance would be: 30\n",
      "EXIT WITH: transaction ok\n",
      "\n",
      "Balance end: 30\n"
     ]
    }
   ],
   "source": [
    "acc4 = Account('sue', 10)\n",
    "\n",
    "print('\\nBalance start: {}'.format(acc4.balance))\n",
    "validate_transaction(acc4, 20)\n",
    "\n",
    "print('\\nBalance end: {}'.format(acc4.balance))"
   ]
  },
  {
   "cell_type": "code",
   "execution_count": 53,
   "id": "1a0920a7",
   "metadata": {
    "collapsed": false,
    "editable": true,
    "jupyter": {
     "outputs_hidden": false
    }
   },
   "outputs": [
    {
     "name": "stdout",
     "output_type": "stream",
     "text": [
      "\n",
      "Balance start: 10\n",
      "ENTER WITH: making backup of transactions for rollback\n",
      "adding -50 to account\n",
      "new balance would be: -40\n",
      "EXIT WITH: rolling back to previous transactions\n",
      "transaction resulted in ValueError (sorry cannot go in debt!)\n",
      "\n",
      "Balance end: 10\n"
     ]
    }
   ],
   "source": [
    "acc4 = Account('sue', 10)\n",
    "\n",
    "print('\\nBalance start: {}'.format(acc4.balance))\n",
    "try:\n",
    "    validate_transaction(acc4, -50)\n",
    "except ValueError:\n",
    "    pass\n",
    "\n",
    "print('\\nBalance end: {}'.format(acc4.balance))"
   ]
  },
  {
   "cell_type": "markdown",
   "id": "64d0592b",
   "metadata": {},
   "source": [
    "### Conclusion\n",
    "\n",
    "I hope you feel a little less afraid of dunder methods after reading this article. A strategic use of them makes your classes more Pythonic, because they emulate builtin types with Python-like behaviors.\n",
    "\n",
    "As with any feature, please don’t overuse it. Operator overloading, for example, can get pretty obscure. Adding “karma” to a person object with +bob or tim << 3 is definitely possible using dunders—but might not be the most obvious or appropriate way to use these special methods. However, for common operations like comparison and additions they can be an elegant approach.\n",
    "\n",
    "Showing each and every dunder method would make for a very long tutorial. If you want to learn more about dunder methods and the Python data model I recommend you go through the [Python reference documentation](https://docs.python.org/3/reference/datamodel.html).\n"
   ]
  },
  {
   "cell_type": "code",
   "execution_count": null,
   "id": "d0501d17",
   "metadata": {},
   "outputs": [],
   "source": []
  }
 ],
 "metadata": {
  "kernelspec": {
   "display_name": "Python [conda env:root]",
   "language": "python",
   "name": "conda-root-py"
  },
  "language_info": {
   "codemirror_mode": {
    "name": "ipython",
    "version": 3
   },
   "file_extension": ".py",
   "mimetype": "text/x-python",
   "name": "python",
   "nbconvert_exporter": "python",
   "pygments_lexer": "ipython3",
   "version": "3.8.5"
  }
 },
 "nbformat": 4,
 "nbformat_minor": 5
}
